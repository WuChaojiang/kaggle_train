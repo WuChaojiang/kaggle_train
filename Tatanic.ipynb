{
 "cells": [
  {
   "cell_type": "code",
   "execution_count": null,
   "metadata": {},
   "outputs": [],
   "source": [
    "msg = \"Hell, Kaggle!\"\n",
    "print(msg)"
   ]
  },
  {
   "cell_type": "code",
   "execution_count": null,
   "metadata": {},
   "outputs": [],
   "source": [
    "# initialze variable msg\n",
    "\n",
    "import numpy as np\n",
    "import matplotlib.pyplot as plt\n",
    "\n",
    "# 在指定的间隔内返回均匀间隔的数字\n",
    "x = np.linspace(0,20,100)\n",
    "plt.plot(x,np.sin(x))\n",
    "plt.show()\n",
    "\n",
    "\n",
    "msg = \"Hello, World!\"\n",
    "print(msg)\n",
    "\n",
    "n = 200\n",
    "fibonacci = np.zeros((n))\n",
    "fibonacci[0] = 0\n",
    "fibonacci[1] = 1\n",
    "index = 2\n",
    "for index in range(2, n):\n",
    "    fibonacci[index] = fibonacci[index-1] + fibonacci[index-2]"
   ]
  },
  {
   "cell_type": "code",
   "execution_count": null,
   "metadata": {},
   "outputs": [],
   "source": []
  }
 ],
 "metadata": {
  "language_info": {
   "codemirror_mode": {
    "name": "ipython",
    "version": 3
   },
   "file_extension": ".py",
   "mimetype": "text/x-python",
   "name": "python",
   "nbconvert_exporter": "python",
   "pygments_lexer": "ipython3",
   "version": "3.7.6-final"
  },
  "orig_nbformat": 2,
  "kernelspec": {
   "name": "python37664bitbaseconda4eb2438db10a405082db0b33e4e3f995",
   "display_name": "Python 3.7.6 64-bit ('base': conda)"
  }
 },
 "nbformat": 4,
 "nbformat_minor": 2
}