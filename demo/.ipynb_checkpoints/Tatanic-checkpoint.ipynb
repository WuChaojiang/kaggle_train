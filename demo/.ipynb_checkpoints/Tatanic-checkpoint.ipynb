{
 "cells": [
  {
   "cell_type": "code",
   "execution_count": 1,
   "metadata": {},
   "outputs": [
    {
     "name": "stdout",
     "output_type": "stream",
     "text": [
      "Hell, Kaggle!\n"
     ]
    }
   ],
   "source": [
    "msg = \"Hell, Kaggle!\"\n",
    "print(msg)\n",
    "\n"
   ]
  },
  {
   "cell_type": "code",
   "execution_count": 1,
   "metadata": {},
   "outputs": [
    {
     "data": {
      "image/png": "[encoded data removed]",
      "text/plain": [
       "<Figure size 432x288 with 1 Axes>"
      ]
     },
     "metadata": {
      "needs_background": "light"
     },
     "output_type": "display_data"
    },
    {
     "name": "stdout",
     "output_type": "stream",
     "text": [
      "Hello, World! It's a fantastic world and I found something to learn and study for a life time.\n"
     ]
    }
   ],
   "source": [
    "# initialze variable msg\n",
    "\n",
    "import numpy as np\n",
    "import matplotlib.pyplot as plt\n",
    "\n",
    "# 在指定的间隔内返回均匀间隔的数字（数组）\n",
    "x = np.linspace(0,20,100)\n",
    "# plt.plot直接画x和y点\n",
    "plt.plot(x,np.sin(x), \"r+\")\n",
    "plt.show()\n",
    "\n",
    "msg = \"Hello, World! It's a fantastic world and I found something to learn and study for a life time.\"\n",
    "print(msg)\n",
    "\n",
    "n = 50\n",
    "fibonacci = np.zeros((n))\n",
    "fibonacci[0] = 0\n",
    "fibonacci[1] = 1\n",
    "\n",
    "index = 2\n",
    "arr = [0, 1]\n",
    "for index in range(2, n):\n",
    "    fibonacci[index] = fibonacci[index-1] + fibonacci[index-2]\n",
    "    arr.append(index)\n",
    "# plt.plot(range(200), fibonacci)\n",
    "# plt.show()\n",
    "\n"
   ]
  },
  {
   "cell_type": "code",
   "execution_count": 0,
   "metadata": {},
   "outputs": [],
   "source": [
    "\n",
    "\n"
   ]
  }
 ],
 "metadata": {
  "kernelspec": {
   "display_name": "Python 3",
   "language": "python",
   "name": "python3"
  },
  "language_info": {
   "codemirror_mode": {
    "name": "ipython",
    "version": 3
   },
   "file_extension": ".py",
   "mimetype": "text/x-python",
   "name": "python",
   "nbconvert_exporter": "python",
   "pygments_lexer": "ipython3",
   "version": "3.7.6"
  }
 },
 "nbformat": 4,
 "nbformat_minor": 2
}
